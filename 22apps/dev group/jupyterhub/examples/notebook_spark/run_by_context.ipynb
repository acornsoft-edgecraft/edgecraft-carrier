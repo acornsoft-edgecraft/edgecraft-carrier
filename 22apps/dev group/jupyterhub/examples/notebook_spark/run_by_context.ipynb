{
 "cells": [
  {
   "cell_type": "code",
   "execution_count": 17,
   "id": "5d6a849f-404d-4b72-b75e-6b60a370a9a8",
   "metadata": {},
   "outputs": [],
   "source": [
    "import pyspark\n",
    "\n",
    "sparkConf = pyspark.SparkConf()\n",
    "sparkConf.setMaster(\"k8s://https://192.168.123:6443\")\n",
    "sparkConf.setAppName(\"spark-test\")\n",
    "sparkConf.set(\"spark.kubernetes.container.image\", \"tarrantro/spark-py:v3.0.1\")  # change that to uour pyspark image\n",
    "sparkConf.set(\"spark.kubernetes.container.image.pullPolicy\", \"IfNotPresent\")\n",
    "sparkConf.set(\"spark.kubernetes.namespace\", \"spark\")\n",
    "sparkConf.set(\"spark.kubernetes.pyspark.pythonVersion\", \"3\")\n",
    "sparkConf.set(\"spark.kubernetes.authenticate.driver.serviceAccountName\", \"spark\")\n",
    "sparkConf.set(\"spark.kubernetes.authenticate.serviceAccountName\", \"spark\")\n",
    "sparkConf.set(\"spark.executor.instances\", \"2\")\n",
    "sparkConf.set(\"spark.executor.cores\", \"2\")\n",
    "sparkConf.set(\"spark.driver.memory\", \"512m\")\n",
    "sparkConf.set(\"spark.driver.port\", \"2222\")\n",
    "sparkConf.set(\"spark.driver.blockManager.port\", \"7777\")\n",
    "sparkConf.set(\"spark.driver.host\", \"driver-service.jhub.svc.cluster.local\")\n",
    "sparkConf.set(\"spark.driver.bindAddress\", \"127.0.0.1\")\n",
    "sparkConf.set(\"spark.app.name\", \"spark-test-app\")\n",
    "\n",
    "sc = pyspark.SparkContext.getOrCreate(conf=sparkConf)"
   ]
  },
  {
   "cell_type": "code",
   "execution_count": 19,
   "id": "56e4ac63-c7ea-46d2-92b7-64e2cd309b3e",
   "metadata": {},
   "outputs": [
    {
     "name": "stdout",
     "output_type": "stream",
     "text": [
      "Pi is roughly 3.141441\n"
     ]
    }
   ],
   "source": [
    "from random import random\n",
    "from operator import add\n",
    "\n",
    "partitions = 7\n",
    "n = 10000000 * partitions\n",
    "\n",
    "def f(_):\n",
    "    x = random() * 2 - 1\n",
    "    y = random() * 2 - 1\n",
    "    \n",
    "    return 1 if x ** 2 + y ** 2 <= 1 else 0\n",
    "\n",
    "count = sc.parallelize(range(1, n + 1), partitions).map(f).reduce(add)\n",
    "\n",
    "print(\"Pi is roughly %f\" % (4.0 * count / n))"
   ]
  },
  {
   "cell_type": "code",
   "execution_count": 18,
   "id": "5dca2a77-3e32-4669-bc4c-857c825376d7",
   "metadata": {},
   "outputs": [
    {
     "name": "stdout",
     "output_type": "stream",
     "text": [
      "Approximate sum: 45.0\n"
     ]
    }
   ],
   "source": [
    "t = sc.parallelize(range(10))\n",
    "r = t.sumApprox(3)\n",
    "print('Approximate sum: %s' % r)"
   ]
  }
 ],
 "metadata": {
  "kernelspec": {
   "display_name": "Python 3 (ipykernel)",
   "language": "python",
   "name": "python3"
  },
  "language_info": {
   "codemirror_mode": {
    "name": "ipython",
    "version": 3
   },
   "file_extension": ".py",
   "mimetype": "text/x-python",
   "name": "python",
   "nbconvert_exporter": "python",
   "pygments_lexer": "ipython3",
   "version": "3.11.4"
  }
 },
 "nbformat": 4,
 "nbformat_minor": 5
}
